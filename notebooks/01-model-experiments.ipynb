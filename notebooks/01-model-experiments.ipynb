{
 "cells": [
  {
   "cell_type": "code",
   "execution_count": 1,
   "metadata": {},
   "outputs": [],
   "source": [
    "import pickle as pkl\n",
    "import warnings\n",
    "from pathlib import Path\n",
    "import numpy as np\n",
    "import pandas as pd\n",
    "import matplotlib.pyplot as plt\n",
    "import sklearn as sk\n",
    "from sklearn import (\n",
    "    model_selection,\n",
    "    preprocessing,\n",
    "    dummy,\n",
    "    metrics,\n",
    "    ensemble,\n",
    "    tree,\n",
    "    neighbors,\n",
    "    pipeline,\n",
    "    compose,\n",
    "    linear_model,\n",
    "    svm,\n",
    ")\n",
    "import xgboost as xgb\n",
    "\n",
    "\n",
    "ROOT_DIR = Path.cwd().parent\n",
    "MODEL_DIR = ROOT_DIR / \"models\"\n",
    "ARTIFACT_DIR = MODEL_DIR / \"artifacts\"\n",
    "warnings.filterwarnings(\"ignore\")"
   ]
  },
  {
   "cell_type": "code",
   "execution_count": 2,
   "metadata": {},
   "outputs": [
    {
     "data": {
      "text/plain": [
       "(7043, 20)"
      ]
     },
     "execution_count": 2,
     "metadata": {},
     "output_type": "execute_result"
    }
   ],
   "source": [
    "CAT_COLS = [\n",
    "    \"gender\",\n",
    "    \"SeniorCitizen\",\n",
    "    \"Partner\",\n",
    "    \"Dependents\",\n",
    "    \"PhoneService\",\n",
    "    \"MultipleLines\",\n",
    "    \"InternetService\",\n",
    "    \"OnlineSecurity\",\n",
    "    \"OnlineBackup\",\n",
    "    \"DeviceProtection\",\n",
    "    \"TechSupport\",\n",
    "    \"StreamingTV\",\n",
    "    \"StreamingMovies\",\n",
    "    \"Contract\",\n",
    "    \"PaperlessBilling\",\n",
    "    \"PaymentMethod\",\n",
    "]\n",
    "NUM_COLS = [\"tenure\", \"MonthlyCharges\", \"TotalCharges\"]\n",
    "TARGET = [\"Churn\"]\n",
    "SEED = 69420\n",
    "\n",
    "df = pd.read_csv(\n",
    "    \"../data/WA_Fn-UseC_-Telco-Customer-Churn.csv\", usecols=CAT_COLS + NUM_COLS + TARGET\n",
    ")\n",
    "df.shape"
   ]
  },
  {
   "cell_type": "code",
   "execution_count": 3,
   "metadata": {},
   "outputs": [],
   "source": [
    "CAT_COLS_OHE = [\"PaymentMethod\", \"Contract\", \"InternetService\"]\n",
    "CAT_COLS_LE = list(set(CAT_COLS) - set(CAT_COLS_OHE))"
   ]
  },
  {
   "cell_type": "code",
   "execution_count": 4,
   "metadata": {},
   "outputs": [],
   "source": [
    "df.TotalCharges = df.TotalCharges.replace(to_replace=\" \", value=\"0\")\n",
    "\n",
    "\n",
    "def custom_combiner(feature, category):\n",
    "    return str(feature) + \"_\" + type(category).__name__ + \"_\" + str(category)\n",
    "\n",
    "\n",
    "scaler = preprocessing.StandardScaler().set_output(transform=\"pandas\")\n",
    "encoder_ohe = preprocessing.OneHotEncoder(feature_name_combiner=custom_combiner)\n",
    "encoder_oe = preprocessing.OrdinalEncoder().set_output(transform=\"pandas\")\n",
    "target_encoder = preprocessing.LabelEncoder()"
   ]
  },
  {
   "cell_type": "code",
   "execution_count": 5,
   "metadata": {},
   "outputs": [
    {
     "data": {
      "text/plain": [
       "((6338, 19), (705, 19), (6338, 1), (705, 1))"
      ]
     },
     "execution_count": 5,
     "metadata": {},
     "output_type": "execute_result"
    }
   ],
   "source": [
    "X, y = df.drop(columns=TARGET), df[TARGET]\n",
    "X_train, X_test, y_train, y_test = model_selection.train_test_split(\n",
    "    X, y, test_size=0.1, random_state=42\n",
    ")\n",
    "X_train.shape, X_test.shape, y_train.shape, y_test.shape"
   ]
  },
  {
   "cell_type": "code",
   "execution_count": 6,
   "metadata": {},
   "outputs": [
    {
     "name": "stdout",
     "output_type": "stream",
     "text": [
      "(6338, 10)\n",
      "(6338, 13)\n",
      "(6338, 3)\n",
      "(6338, 26)\n"
     ]
    }
   ],
   "source": [
    "# One-hot encoding\n",
    "X_ohe__train = X_train[CAT_COLS_OHE]\n",
    "encoder_ohe.fit(X_ohe__train)\n",
    "X_ohe_trans__train = encoder_ohe.transform(X_ohe__train)\n",
    "X_ohe_trans_df__train: pd.DataFrame = pd.DataFrame(\n",
    "    X_ohe_trans__train.toarray(), columns=encoder_ohe.get_feature_names_out()\n",
    ")\n",
    "\n",
    "print(X_ohe_trans__train.shape)\n",
    "\n",
    "# Ordinal Encoding\n",
    "X_oe__train = X_train[CAT_COLS_LE]\n",
    "encoder_oe.fit(X_oe__train)\n",
    "X_oe_trans__train = encoder_oe.transform(X_oe__train)\n",
    "print(X_oe_trans__train.shape)\n",
    "\n",
    "# Scale\n",
    "X_scale__train = X_train[NUM_COLS]\n",
    "scaler.fit(X_scale__train)\n",
    "X_scale_trans__train = scaler.transform(X_scale__train)\n",
    "print(X_scale_trans__train.shape)\n",
    "\n",
    "X_to_train = pd.concat(\n",
    "    [\n",
    "        X_ohe_trans_df__train.reset_index(drop=True),\n",
    "        X_oe_trans__train.reset_index(drop=True),\n",
    "        X_scale_trans__train.reset_index(drop=True),\n",
    "    ],\n",
    "    axis=1,\n",
    ")\n",
    "print(X_to_train.shape)\n",
    "\n",
    "\n",
    "# ----------------------------------------------- #\n",
    "X_ohe__test = X_test[CAT_COLS_OHE]\n",
    "X_ohe_trans__test = encoder_ohe.transform(X_ohe__test)\n",
    "X_ohe_trans__test: pd.DataFrame = pd.DataFrame(\n",
    "    X_ohe_trans__test.toarray(), columns=encoder_ohe.get_feature_names_out()\n",
    ")\n",
    "\n",
    "X_oe__test = X_test[CAT_COLS_LE]\n",
    "X_oe_trans__test = encoder_oe.transform(X_oe__test)\n",
    "\n",
    "X_scale__test = X_test[NUM_COLS]\n",
    "scaler.fit(X_scale__test)\n",
    "X_scale_trans__test = scaler.transform(X_scale__test)\n",
    "\n",
    "X_to_test = pd.concat(\n",
    "    [\n",
    "        X_ohe_trans__test.reset_index(drop=True),\n",
    "        X_oe_trans__test.reset_index(drop=True),\n",
    "        X_scale_trans__test.reset_index(drop=True),\n",
    "    ],\n",
    "    axis=1,\n",
    ")\n",
    "\n",
    "# --------------------------------- #\n",
    "# Encode target variable\n",
    "target_encoder.fit(y_train)\n",
    "y_train = target_encoder.transform(y_train)\n",
    "y_test = target_encoder.transform(y_test)\n",
    "\n",
    "# --------------------------------- #\n",
    "# Saving the preprocessors\n",
    "preprocessors_names = [\n",
    "    \"encoder_ohe_\",\n",
    "    \"encoder_oe_\",\n",
    "    \"scaler_standard_\",\n",
    "    \"target_encoder_\",\n",
    "]\n",
    "trained_processors = [encoder_ohe, encoder_oe, scaler, target_encoder]\n",
    "for name, preprocessor in zip(preprocessors_names, trained_processors):\n",
    "    path_ = ARTIFACT_DIR / f\"{name}.pkl\"\n",
    "    with open(str(path_), \"wb\") as f:\n",
    "        pkl.dump(preprocessor, f)"
   ]
  },
  {
   "cell_type": "code",
   "execution_count": 7,
   "metadata": {},
   "outputs": [
    {
     "name": "stdout",
     "output_type": "stream",
     "text": [
      "dummy_classifier --> 0.6091848637551326\n"
     ]
    },
    {
     "name": "stdout",
     "output_type": "stream",
     "text": [
      "k_nearest_neighbors --> 0.7665209624344095\n",
      "logistic_regression --> 0.7719935446908444\n",
      "support_vector_machines --> 0.8005851403468898\n",
      "random_forest --> 0.7887614503627636\n",
      "gradient_boosting --> 0.8025849518643331\n",
      "decision_tree --> 0.6996186527896252\n",
      "adaboost --> 0.7962382434995371\n",
      "voting --> 0.8051184430293665\n"
     ]
    },
    {
     "data": {
      "text/html": [
       "<div>\n",
       "<style scoped>\n",
       "    .dataframe tbody tr th:only-of-type {\n",
       "        vertical-align: middle;\n",
       "    }\n",
       "\n",
       "    .dataframe tbody tr th {\n",
       "        vertical-align: top;\n",
       "    }\n",
       "\n",
       "    .dataframe thead th {\n",
       "        text-align: right;\n",
       "    }\n",
       "</style>\n",
       "<table border=\"1\" class=\"dataframe\">\n",
       "  <thead>\n",
       "    <tr style=\"text-align: right;\">\n",
       "      <th></th>\n",
       "      <th>accuracy</th>\n",
       "      <th>precision</th>\n",
       "      <th>recall</th>\n",
       "      <th>fscore</th>\n",
       "    </tr>\n",
       "  </thead>\n",
       "  <tbody>\n",
       "    <tr>\n",
       "      <th>voting</th>\n",
       "      <td>0.811348</td>\n",
       "      <td>0.803686</td>\n",
       "      <td>0.811348</td>\n",
       "      <td>0.805118</td>\n",
       "    </tr>\n",
       "    <tr>\n",
       "      <th>gradient_boosting</th>\n",
       "      <td>0.809929</td>\n",
       "      <td>0.801572</td>\n",
       "      <td>0.809929</td>\n",
       "      <td>0.802585</td>\n",
       "    </tr>\n",
       "    <tr>\n",
       "      <th>support_vector_machines</th>\n",
       "      <td>0.811348</td>\n",
       "      <td>0.802415</td>\n",
       "      <td>0.811348</td>\n",
       "      <td>0.800585</td>\n",
       "    </tr>\n",
       "    <tr>\n",
       "      <th>adaboost</th>\n",
       "      <td>0.804255</td>\n",
       "      <td>0.795138</td>\n",
       "      <td>0.804255</td>\n",
       "      <td>0.796238</td>\n",
       "    </tr>\n",
       "    <tr>\n",
       "      <th>random_forest</th>\n",
       "      <td>0.801418</td>\n",
       "      <td>0.790918</td>\n",
       "      <td>0.801418</td>\n",
       "      <td>0.788761</td>\n",
       "    </tr>\n",
       "    <tr>\n",
       "      <th>logistic_regression</th>\n",
       "      <td>0.760284</td>\n",
       "      <td>0.815368</td>\n",
       "      <td>0.760284</td>\n",
       "      <td>0.771994</td>\n",
       "    </tr>\n",
       "    <tr>\n",
       "      <th>k_nearest_neighbors</th>\n",
       "      <td>0.774468</td>\n",
       "      <td>0.763462</td>\n",
       "      <td>0.774468</td>\n",
       "      <td>0.766521</td>\n",
       "    </tr>\n",
       "    <tr>\n",
       "      <th>decision_tree</th>\n",
       "      <td>0.709220</td>\n",
       "      <td>0.693591</td>\n",
       "      <td>0.709220</td>\n",
       "      <td>0.699619</td>\n",
       "    </tr>\n",
       "    <tr>\n",
       "      <th>dummy_classifier</th>\n",
       "      <td>0.724823</td>\n",
       "      <td>0.525368</td>\n",
       "      <td>0.724823</td>\n",
       "      <td>0.609185</td>\n",
       "    </tr>\n",
       "  </tbody>\n",
       "</table>\n",
       "</div>"
      ],
      "text/plain": [
       "                         accuracy  precision    recall    fscore\n",
       "voting                   0.811348   0.803686  0.811348  0.805118\n",
       "gradient_boosting        0.809929   0.801572  0.809929  0.802585\n",
       "support_vector_machines  0.811348   0.802415  0.811348  0.800585\n",
       "adaboost                 0.804255   0.795138  0.804255  0.796238\n",
       "random_forest            0.801418   0.790918  0.801418  0.788761\n",
       "logistic_regression      0.760284   0.815368  0.760284  0.771994\n",
       "k_nearest_neighbors      0.774468   0.763462  0.774468  0.766521\n",
       "decision_tree            0.709220   0.693591  0.709220  0.699619\n",
       "dummy_classifier         0.724823   0.525368  0.724823  0.609185"
      ]
     },
     "execution_count": 7,
     "metadata": {},
     "output_type": "execute_result"
    }
   ],
   "source": [
    "def run_experiments(\n",
    "    models,\n",
    "    X_train=X_to_train,\n",
    "    y_train=y_train,\n",
    "    X_test=X_to_test,\n",
    "    y_test=y_test,\n",
    ") -> pd.DataFrame:\n",
    "    results = dict()\n",
    "    for name, model in models:\n",
    "        model.fit(X_train, y_train)\n",
    "        path_ = MODEL_DIR / f\"{name}.pkl\"\n",
    "        with open(path_, \"wb\") as f:\n",
    "            pkl.dump(preprocessor, f)\n",
    "        predictions = model.predict(X_test)\n",
    "        accuracy = metrics.accuracy_score(y_test, predictions)\n",
    "        precision, recall, fscore, _ = metrics.precision_recall_fscore_support(\n",
    "            y_test, predictions, average=\"weighted\"\n",
    "        )\n",
    "        print(f\"{name} --> {fscore}\")\n",
    "        results[name] = (accuracy, precision, recall, fscore)\n",
    "    return pd.DataFrame.from_dict(results)\n",
    "\n",
    "\n",
    "models = [\n",
    "    (\n",
    "        \"dummy_classifier\",\n",
    "        dummy.DummyClassifier(random_state=SEED, strategy=\"most_frequent\"),\n",
    "    ),\n",
    "    (\"k_nearest_neighbors\", neighbors.KNeighborsClassifier()),\n",
    "    (\n",
    "        \"logistic_regression\",\n",
    "        linear_model.LogisticRegression(\n",
    "            random_state=SEED, solver=\"liblinear\", class_weight=\"balanced\"\n",
    "        ),\n",
    "    ),\n",
    "    (\"support_vector_machines\", svm.SVC(random_state=SEED, kernel=\"rbf\")),\n",
    "    (\"random_forest\", ensemble.RandomForestClassifier(random_state=SEED)),\n",
    "    (\"gradient_boosting\", ensemble.GradientBoostingClassifier(random_state=SEED)),\n",
    "    (\"decision_tree\", tree.DecisionTreeClassifier(random_state=SEED)),\n",
    "    (\"adaboost\", ensemble.AdaBoostClassifier()),\n",
    "    (\n",
    "        \"voting\",\n",
    "        ensemble.VotingClassifier(\n",
    "            estimators=[\n",
    "                (\"gbc\", ensemble.GradientBoostingClassifier()),\n",
    "                (\"lr\", linear_model.LogisticRegression()),\n",
    "                (\"abc\", ensemble.AdaBoostClassifier()),\n",
    "            ],\n",
    "            voting=\"soft\",\n",
    "        ),\n",
    "    ),\n",
    "]\n",
    "\n",
    "results = run_experiments(\n",
    "    models=models,\n",
    "    X_train=X_to_train.to_numpy(),\n",
    "    y_train=y_train,\n",
    "    X_test=X_to_test.to_numpy(),\n",
    "    y_test=y_test,\n",
    ")\n",
    "results = results.T\n",
    "results.columns = [\"accuracy\", \"precision\", \"recall\", \"fscore\"]\n",
    "results = results.sort_values(by=[\"fscore\"], ascending=False)\n",
    "results"
   ]
  },
  {
   "cell_type": "code",
   "execution_count": 8,
   "metadata": {},
   "outputs": [
    {
     "data": {
      "text/plain": [
       "<Axes: >"
      ]
     },
     "execution_count": 8,
     "metadata": {},
     "output_type": "execute_result"
    },
    {
     "data": {
      "image/png": "[encoded data removed]",
      "text/plain": [
       "<Figure size 1000x1000 with 1 Axes>"
      ]
     },
     "metadata": {},
     "output_type": "display_data"
    }
   ],
   "source": [
    "results.plot(kind=\"bar\", figsize=(10, 10), alpha=0.75, rot=60, ylim=(0, 1))"
   ]
  }
 ],
 "metadata": {
  "kernelspec": {
   "display_name": "Python 3",
   "language": "python",
   "name": "python3"
  },
  "language_info": {
   "codemirror_mode": {
    "name": "ipython",
    "version": 3
   },
   "file_extension": ".py",
   "mimetype": "text/x-python",
   "name": "python",
   "nbconvert_exporter": "python",
   "pygments_lexer": "ipython3",
   "version": "3.9.16"
  },
  "orig_nbformat": 4
 },
 "nbformat": 4,
 "nbformat_minor": 2
}
