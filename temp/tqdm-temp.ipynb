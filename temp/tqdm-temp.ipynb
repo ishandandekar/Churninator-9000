{
 "cells": [
  {
   "cell_type": "code",
   "execution_count": 1,
   "metadata": {},
   "outputs": [],
   "source": [
    "from tqdm.auto import tqdm\n",
    "from time import sleep"
   ]
  },
  {
   "cell_type": "code",
   "execution_count": 2,
   "metadata": {},
   "outputs": [
    {
     "data": {
      "application/vnd.jupyter.widget-view+json": {
       "model_id": "429986b2b5d94660b16f2fd31c2de10d",
       "version_major": 2,
       "version_minor": 0
      },
      "text/plain": [
       "  0%|          | 0/4 [00:00<?, ?it/s]"
      ]
     },
     "metadata": {},
     "output_type": "display_data"
    },
    {
     "name": "stdout",
     "output_type": "stream",
     "text": [
      "Training KNN...\n",
      "Training DT...\n",
      "Training RF...\n",
      "Training XGBoost...\n"
     ]
    }
   ],
   "source": [
    "model_list = [\n",
    "    (\"knn\", \"KNN\"),\n",
    "    (\"dt\", \"DT\"),\n",
    "    (\"rf\", \"RF\"),\n",
    "    (\"xgboost\", \"XGBoost\"),\n",
    "]\n",
    "\n",
    "for model_name, model_title in tqdm(model_list):\n",
    "    print(f\"Training {model_title}...\")\n",
    "    sleep(2)"
   ]
  }
 ],
 "metadata": {
  "kernelspec": {
   "display_name": "Python 3",
   "language": "python",
   "name": "python3"
  },
  "language_info": {
   "codemirror_mode": {
    "name": "ipython",
    "version": 3
   },
   "file_extension": ".py",
   "mimetype": "text/x-python",
   "name": "python",
   "nbconvert_exporter": "python",
   "pygments_lexer": "ipython3",
   "version": "3.9.16"
  },
  "orig_nbformat": 4
 },
 "nbformat": 4,
 "nbformat_minor": 2
}
