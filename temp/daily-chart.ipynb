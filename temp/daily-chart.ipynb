{
 "cells": [
  {
   "cell_type": "code",
   "execution_count": 5,
   "metadata": {},
   "outputs": [
    {
     "data": {
      "text/html": [
       "<div>\n",
       "<style scoped>\n",
       "    .dataframe tbody tr th:only-of-type {\n",
       "        vertical-align: middle;\n",
       "    }\n",
       "\n",
       "    .dataframe tbody tr th {\n",
       "        vertical-align: top;\n",
       "    }\n",
       "\n",
       "    .dataframe thead th {\n",
       "        text-align: right;\n",
       "    }\n",
       "</style>\n",
       "<table border=\"1\" class=\"dataframe\">\n",
       "  <thead>\n",
       "    <tr style=\"text-align: right;\">\n",
       "      <th></th>\n",
       "      <th>Name</th>\n",
       "      <th>LastModified</th>\n",
       "    </tr>\n",
       "  </thead>\n",
       "  <tbody>\n",
       "    <tr>\n",
       "      <th>0</th>\n",
       "      <td>object1.txt</td>\n",
       "      <td>2023-07-26 12:34:56+00:00</td>\n",
       "    </tr>\n",
       "    <tr>\n",
       "      <th>1</th>\n",
       "      <td>object2.jpg</td>\n",
       "      <td>2023-07-25 09:45:21+00:00</td>\n",
       "    </tr>\n",
       "    <tr>\n",
       "      <th>2</th>\n",
       "      <td>nested_folder/object3.csv</td>\n",
       "      <td>2023-07-24 14:55:33+00:00</td>\n",
       "    </tr>\n",
       "    <tr>\n",
       "      <th>3</th>\n",
       "      <td>object4.pdf</td>\n",
       "      <td>2023-07-23 18:10:47+00:00</td>\n",
       "    </tr>\n",
       "    <tr>\n",
       "      <th>4</th>\n",
       "      <td>other_folder/object5.py</td>\n",
       "      <td>2023-07-22 22:30:15+00:00</td>\n",
       "    </tr>\n",
       "  </tbody>\n",
       "</table>\n",
       "</div>"
      ],
      "text/plain": [
       "                        Name               LastModified\n",
       "0                object1.txt  2023-07-26 12:34:56+00:00\n",
       "1                object2.jpg  2023-07-25 09:45:21+00:00\n",
       "2  nested_folder/object3.csv  2023-07-24 14:55:33+00:00\n",
       "3                object4.pdf  2023-07-23 18:10:47+00:00\n",
       "4    other_folder/object5.py  2023-07-22 22:30:15+00:00"
      ]
     },
     "execution_count": 5,
     "metadata": {},
     "output_type": "execute_result"
    }
   ],
   "source": [
    "import pandas as pd\n",
    "\n",
    "df = pd.read_csv(\"./dummy-lastModified.csv\")\n",
    "df"
   ]
  },
  {
   "cell_type": "code",
   "execution_count": 14,
   "metadata": {},
   "outputs": [
    {
     "name": "stdout",
     "output_type": "stream",
     "text": [
      "<class 'pandas.core.frame.DataFrame'>\n",
      "RangeIndex: 5 entries, 0 to 4\n",
      "Data columns (total 3 columns):\n",
      " #   Column        Non-Null Count  Dtype         \n",
      "---  ------        --------------  -----         \n",
      " 0   Name          5 non-null      object        \n",
      " 1   LastModified  5 non-null      datetime64[ns]\n",
      " 2   x_axis        5 non-null      object        \n",
      "dtypes: datetime64[ns](1), object(2)\n",
      "memory usage: 248.0+ bytes\n"
     ]
    }
   ],
   "source": [
    "df[\"LastModified\"] = pd.to_datetime(df[\"LastModified\"], utc=False, unit=\"ns\")\n",
    "df[\"LastModified\"] = df[\"LastModified\"].dt.tz_localize(None)\n",
    "df.info()"
   ]
  },
  {
   "cell_type": "code",
   "execution_count": 21,
   "metadata": {},
   "outputs": [
    {
     "data": {
      "text/plain": [
       "0    July-2023\n",
       "1    July-2023\n",
       "2    July-2023\n",
       "3    July-2023\n",
       "4    July-2023\n",
       "Name: x_axis, dtype: object"
      ]
     },
     "execution_count": 21,
     "metadata": {},
     "output_type": "execute_result"
    }
   ],
   "source": [
    "df[\"x_axis\"] = df[\"LastModified\"].dt.strftime(\"%B-%Y\")\n",
    "df[\"x_axis\"]"
   ]
  }
 ],
 "metadata": {
  "kernelspec": {
   "display_name": "Python 3",
   "language": "python",
   "name": "python3"
  },
  "language_info": {
   "codemirror_mode": {
    "name": "ipython",
    "version": 3
   },
   "file_extension": ".py",
   "mimetype": "text/x-python",
   "name": "python",
   "nbconvert_exporter": "python",
   "pygments_lexer": "ipython3",
   "version": "3.9.16"
  },
  "orig_nbformat": 4
 },
 "nbformat": 4,
 "nbformat_minor": 2
}
